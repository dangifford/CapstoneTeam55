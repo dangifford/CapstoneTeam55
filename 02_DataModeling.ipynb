{
 "cells": [
  {
   "cell_type": "code",
   "execution_count": 34,
   "metadata": {},
   "outputs": [],
   "source": [
    "#import any library dependencies\n",
    "import pandas as pd\n",
    "import numpy as np\n",
    "from sklearn.metrics import mean_squared_error, mean_absolute_error\n",
    "from boruta import BorutaPy\n",
    "from sklearn.ensemble import RandomForestRegressor"
   ]
  },
  {
   "cell_type": "code",
   "execution_count": 56,
   "metadata": {},
   "outputs": [],
   "source": [
    "#read in the data\n",
    "dataset = pd.read_csv(\"country_pred_delta_forest.csv\")\n",
    "df = dataset.drop(columns=[\"Area\",\"Unnamed: 0\"])\n",
    "#df = df[df[\"Country.Code\"] != \"NRU\"]\n",
    "#df = df[df[\"Country.Code\"] != \"QAT\"]\n",
    "#df = df[df['Country.Code'] != 'SMR']\n",
    "#create a lag by country\n",
    "df[\"delta_forest_area_lag_1\"] = df.groupby([\"Country.Code\"])[\"delta_forest_area\"].shift(1)"
   ]
  },
  {
   "cell_type": "code",
   "execution_count": 57,
   "metadata": {},
   "outputs": [
    {
     "name": "stdout",
     "output_type": "stream",
     "text": [
      "<class 'pandas.core.frame.DataFrame'>\n",
      "RangeIndex: 5252 entries, 0 to 5251\n",
      "Data columns (total 116 columns):\n",
      "Country.Code                        object\n",
      "yr                                  int64\n",
      "countryname                         object\n",
      "pct_forest                          float64\n",
      "gdp                                 float64\n",
      "pop                                 float64\n",
      "forest_area                         float64\n",
      "x_6796_722511                       float64\n",
      "x_6796_723011                       float64\n",
      "x_6796_723111                       float64\n",
      "x_6796_724311                       float64\n",
      "x_6796_724411                       float64\n",
      "x_6796_7245                         float64\n",
      "x_6796_7246                         float64\n",
      "x_6797_722511                       float64\n",
      "x_6797_723011                       float64\n",
      "x_6797_723111                       float64\n",
      "x_6797_724311                       float64\n",
      "x_6797_724411                       float64\n",
      "x_6797_7245                         float64\n",
      "x_6797_7246                         float64\n",
      "x_6798_722511                       float64\n",
      "x_6798_723011                       float64\n",
      "x_6798_723111                       float64\n",
      "x_6798_724311                       float64\n",
      "x_6798_724411                       float64\n",
      "x_6798_7245                         float64\n",
      "x_6798_7246                         float64\n",
      "x_6970_5008                         float64\n",
      "x_6971_5008                         float64\n",
      "x_6972_5008                         float64\n",
      "x_6976_5008                         float64\n",
      "x_6977_5008                         float64\n",
      "x_6978_5008                         float64\n",
      "x_6979_5008                         float64\n",
      "x_6980_5008                         float64\n",
      "x_6981_5008                         float64\n",
      "x_6983_5008                         float64\n",
      "x_6600_5110                         float64\n",
      "x_6601_5110                         float64\n",
      "x_6602_5110                         float64\n",
      "x_6610_5110                         float64\n",
      "x_6620_5110                         float64\n",
      "x_6621_5110                         float64\n",
      "x_6650_5110                         float64\n",
      "x_6655_5110                         float64\n",
      "x_6663_5110                         float64\n",
      "x_6670_5110                         float64\n",
      "x_6716_5110                         float64\n",
      "x_6717_5110                         float64\n",
      "x_2071_5910                         float64\n",
      "x_236_5910                          float64\n",
      "x_237_5910                          float64\n",
      "x_257_5910                          float64\n",
      "x_258_5910                          float64\n",
      "x_1601_5516                         float64\n",
      "x_1602_5516                         float64\n",
      "x_1603_5516                         float64\n",
      "x_1604_5516                         float64\n",
      "x_1623_5516                         float64\n",
      "x_1626_5516                         float64\n",
      "x_1633_5516                         float64\n",
      "x_1634_5516                         float64\n",
      "IncomeGroup.x                       object\n",
      "Sub.Regions.x                       object\n",
      "Commodity.driven.deforestation.x    float64\n",
      "Forestry.x                          float64\n",
      "Wildfire.x                          float64\n",
      "Shifting.agriculture.x              float64\n",
      "datagroup                           int64\n",
      "forestgroup                         int64\n",
      "gdpgroup                            int64\n",
      "popgroup                            int64\n",
      "lag_gdp                             float64\n",
      "lag_pop                             float64\n",
      "lag_forest_area                     float64\n",
      "lag_x_6798_7245                     float64\n",
      "lag_x_6798_7246                     float64\n",
      "lag_x_6610_5110                     float64\n",
      "lag_x_6716_5110                     float64\n",
      "lag_x_6717_5110                     float64\n",
      "lag_x_2071_5910                     float64\n",
      "lag_x_236_5910                      float64\n",
      "lag_x_237_5910                      float64\n",
      "lag_x_257_5910                      float64\n",
      "lag_x_258_5910                      float64\n",
      "lag_x_1601_5516                     float64\n",
      "lag_x_1602_5516                     float64\n",
      "lag_x_1603_5516                     float64\n",
      "lag_x_1604_5516                     float64\n",
      "lag_x_1623_5516                     float64\n",
      "lag_x_1626_5516                     float64\n",
      "lag_x_1633_5516                     float64\n",
      "lag_x_1634_5516                     float64\n",
      "delta_gdp                           float64\n",
      "delta_forest_area                   float64\n",
      "delta_pop                           float64\n",
      "delta_x_257_5910                    float64\n",
      "delta_x_236_5910                    float64\n",
      "delta_x_2071_5910                   float64\n",
      "delta_x_258_5910                    float64\n",
      "delta_x_237_5910                    float64\n",
      "delta_x_1601_5516                   float64\n",
      "delta_x_1604_5516                   float64\n",
      "delta_x_1623_5516                   float64\n",
      "delta_x_1626_5516                   float64\n",
      "delta_x_1633_5516                   float64\n",
      "delta_x_1602_5516                   float64\n",
      "delta_x_1603_5516                   float64\n",
      "delta_x_1634_5516                   float64\n",
      "delta_x_6798_7246                   float64\n",
      "delta_x_6798_7245                   float64\n",
      "delta_x_6610_5110                   float64\n",
      "delta_x_6716_5110                   float64\n",
      "delta_x_6717_5110                   float64\n",
      "delta_forest_area_lag_1             float64\n",
      "dtypes: float64(107), int64(5), object(4)\n",
      "memory usage: 4.6+ MB\n"
     ]
    }
   ],
   "source": [
    "#for_naive.head()\n",
    "#countries[\"USA\"]\n",
    "#df.head()\n",
    "df.info(verbose=True)"
   ]
  },
  {
   "cell_type": "markdown",
   "metadata": {},
   "source": [
    "# Create a dataset with internal splits by country"
   ]
  },
  {
   "cell_type": "code",
   "execution_count": 58,
   "metadata": {},
   "outputs": [],
   "source": [
    "#split dataset by country\n",
    "def to_country(data, cntry_ix):\n",
    "    countries = dict()\n",
    "    #get unique country codes\n",
    "    country = np.unique(data[ : , cntry_ix])\n",
    "    #group by country\n",
    "    for c in country:\n",
    "        select = data[:, cntry_ix] == c\n",
    "        countries[c] = data[select, :]\n",
    "    return countries"
   ]
  },
  {
   "cell_type": "code",
   "execution_count": 59,
   "metadata": {},
   "outputs": [
    {
     "name": "stdout",
     "output_type": "stream",
     "text": [
      "Total countries: 202\n"
     ]
    }
   ],
   "source": [
    "values = df.values\n",
    "countries = to_country(values,0)\n",
    "print('Total countries: %d' % len(countries))"
   ]
  },
  {
   "cell_type": "markdown",
   "metadata": {},
   "source": [
    "# Split data into train and test"
   ]
  },
  {
   "cell_type": "markdown",
   "metadata": {},
   "source": [
    "Train is years 1991-2011 and test is 2012-2016"
   ]
  },
  {
   "cell_type": "code",
   "execution_count": 60,
   "metadata": {},
   "outputs": [],
   "source": [
    "#split into train and test sets\n",
    "def split_train_test(countries, row_in_country):\n",
    "    train, test = list(), list()\n",
    "    #First 21 years for train\n",
    "    cut_point = 2011\n",
    "    #list out countries\n",
    "    for x, rows in countries.items():\n",
    "        #split by position\n",
    "        train_rows = rows[rows[:,row_in_country] <= cut_point, :]\n",
    "        test_rows = rows[rows[:,row_in_country]> cut_point, :]\n",
    "        if len(train_rows) == 0 or len(test_rows) == 0:\n",
    "            print(\"Dropping country=%s: train=%s, test=%s\" % (x,train_rows.shape,test_rows.shape))\n",
    "            continue\n",
    "        #sort with country id, position, year, targets\n",
    "        indices = [0,1,95,115]\n",
    "        train.append(train_rows[: ,indices])\n",
    "        test.append(test_rows[:, indices])\n",
    "    return train, test\n",
    "\n",
    "train, test = split_train_test(countries,1)"
   ]
  },
  {
   "cell_type": "code",
   "execution_count": 61,
   "metadata": {},
   "outputs": [
    {
     "data": {
      "text/plain": [
       "array([['AFG', 2012, 0.0, 0.0],\n",
       "       ['AFG', 2013, 0.0, 0.0],\n",
       "       ['AFG', 2014, 0.0, 0.0],\n",
       "       ['AFG', 2015, 0.0, 0.0],\n",
       "       ['AFG', 2016, 0.0, 0.0]], dtype=object)"
      ]
     },
     "execution_count": 61,
     "metadata": {},
     "output_type": "execute_result"
    }
   ],
   "source": [
    "test[1]"
   ]
  },
  {
   "cell_type": "markdown",
   "metadata": {},
   "source": [
    "# Persistance [Naive] Model"
   ]
  },
  {
   "cell_type": "code",
   "execution_count": 62,
   "metadata": {},
   "outputs": [],
   "source": [
    "def persistance_model(x):\n",
    "    return x"
   ]
  },
  {
   "cell_type": "code",
   "execution_count": 63,
   "metadata": {},
   "outputs": [],
   "source": [
    "test_y = list()\n",
    "predictions = list()\n",
    "for x in test:\n",
    "    for row in x:\n",
    "        true = row[3]\n",
    "        yhat = persistance_model(row[2])\n",
    "        predictions.append(yhat)\n",
    "        test_y.append(true)\n",
    "test_mse = mean_squared_error(test_y,predictions)\n",
    "test_mae = mean_absolute_error(test_y,predictions)\n",
    "test_rmse = np.sqrt(test_mse)"
   ]
  },
  {
   "cell_type": "code",
   "execution_count": 64,
   "metadata": {},
   "outputs": [
    {
     "name": "stdout",
     "output_type": "stream",
     "text": [
      "Test MSE: 0.000002\n",
      "Test MAE: 0.000228\n",
      "Test RMSE: 0.001323\n"
     ]
    }
   ],
   "source": [
    "print(\"Test MSE: %f\" % test_mse)\n",
    "print(\"Test MAE: %f\" % test_mae)\n",
    "print(\"Test RMSE: %f\" % test_rmse)"
   ]
  },
  {
   "cell_type": "markdown",
   "metadata": {},
   "source": [
    "# Boruta Feature Selection"
   ]
  },
  {
   "cell_type": "code",
   "execution_count": 65,
   "metadata": {},
   "outputs": [],
   "source": [
    "#create some dummy features\n",
    "df = pd.get_dummies(df, columns=[\"IncomeGroup.x\",\"Sub.Regions.x\"])\n",
    "\n",
    "#df.info(verbose=True)\n",
    "df = df.fillna(0)"
   ]
  },
  {
   "cell_type": "code",
   "execution_count": 66,
   "metadata": {},
   "outputs": [],
   "source": [
    "#split our target/features\n",
    "X = df[['yr','gdp','pop','x_6796_722511','x_6796_723011','x_6796_723111','x_6796_724311',\n",
    "        'x_6796_724411','x_6796_7245','x_6796_7246','x_6797_722511','x_6797_723011','x_6797_723111','x_6797_724311',\n",
    "        'x_6797_724411','x_6797_7245','x_6797_7246','x_6798_722511','x_6798_723011','x_6798_723111','x_6798_724311',\n",
    "        'x_6798_724411','x_6798_7245','x_6798_7246','x_6970_5008','x_6971_5008','x_6972_5008','x_6976_5008',\n",
    "        'x_6977_5008','x_6978_5008','x_6979_5008','x_6980_5008','x_6981_5008','x_6983_5008','x_6600_5110',\n",
    "        'x_6601_5110','x_6602_5110','x_6610_5110','x_6620_5110','x_6621_5110','x_6650_5110','x_6655_5110',\n",
    "        'x_6663_5110','x_6670_5110','x_6716_5110','x_6717_5110','x_2071_5910','x_236_5910','x_237_5910','x_257_5910',\n",
    "        'x_258_5910','x_1601_5516','x_1602_5516','x_1603_5516','x_1604_5516','x_1623_5516','x_1626_5516',\n",
    "        'x_1633_5516','x_1634_5516','Commodity.driven.deforestation.x','Forestry.x',\n",
    "        'Wildfire.x','Shifting.agriculture.x','datagroup','forestgroup','gdpgroup','popgroup','lag_gdp','lag_pop',\n",
    "        'lag_x_6798_7245','lag_x_6798_7246','lag_x_6610_5110','lag_x_6716_5110','lag_x_6717_5110','lag_x_2071_5910',\n",
    "        'lag_x_236_5910','lag_x_237_5910','lag_x_257_5910','lag_x_258_5910','lag_x_1601_5516','lag_x_1602_5516',\n",
    "        'lag_x_1603_5516','lag_x_1604_5516','lag_x_1623_5516','lag_x_1626_5516','lag_x_1633_5516','lag_x_1634_5516',\n",
    "        'delta_gdp','delta_pop','delta_x_257_5910','delta_x_236_5910','delta_x_2071_5910','delta_x_258_5910',\n",
    "        'delta_x_237_5910','delta_x_1601_5516','delta_x_1604_5516','delta_x_1623_5516','delta_x_1626_5516',\n",
    "        'delta_x_1633_5516','delta_x_1602_5516','delta_x_1603_5516','delta_x_1634_5516','delta_x_6798_7246',\n",
    "        'delta_x_6798_7245','delta_x_6610_5110','delta_x_6716_5110','delta_x_6717_5110','IncomeGroup.x_High income',\n",
    "        'IncomeGroup.x_Low income','IncomeGroup.x_Lower middle income','IncomeGroup.x_Upper middle income',\n",
    "        'Sub.Regions.x_Australia and New Zealand','Sub.Regions.x_Central Asia','Sub.Regions.x_Eastern Asia',\n",
    "        'Sub.Regions.x_Eastern Europe','Sub.Regions.x_Latin America and the Caribbean','Sub.Regions.x_Melanesia',\n",
    "        'Sub.Regions.x_Micronesia','Sub.Regions.x_Northern Africa','Sub.Regions.x_Northern America',\n",
    "        'Sub.Regions.x_Northern Europe','Sub.Regions.x_Polynesia','Sub.Regions.x_South-eastern Asia',\n",
    "        'Sub.Regions.x_Southern Asia','Sub.Regions.x_Southern Europe','Sub.Regions.x_Sub-Saharan Africa',\n",
    "        'Sub.Regions.x_Western Asia','Sub.Regions.x_Western Europe']]\n",
    "y = df['delta_forest_area']\n"
   ]
  },
  {
   "cell_type": "code",
   "execution_count": 67,
   "metadata": {},
   "outputs": [
    {
     "name": "stdout",
     "output_type": "stream",
     "text": [
      "features in the green area: ['yr', 'gdp', 'pop', 'x_6971_5008', 'x_6972_5008', 'x_6976_5008', 'x_6977_5008', 'x_6978_5008', 'x_6979_5008', 'x_6981_5008', 'x_6983_5008', 'x_6620_5110', 'x_6650_5110', 'x_6655_5110', 'x_6663_5110', 'x_6670_5110', 'x_6716_5110', 'x_6717_5110', 'x_1603_5516', 'x_1633_5516', 'x_1634_5516', 'forestgroup', 'lag_gdp', 'lag_pop', 'lag_x_6716_5110', 'lag_x_6717_5110', 'lag_x_1603_5516', 'lag_x_1604_5516', 'lag_x_1623_5516', 'lag_x_1633_5516', 'lag_x_1634_5516', 'delta_pop', 'delta_x_6716_5110', 'delta_x_6717_5110', 'IncomeGroup.x_Lower middle income', 'Sub.Regions.x_Northern Africa', 'Sub.Regions.x_Polynesia', 'Sub.Regions.x_Sub-Saharan Africa']\n",
      "features in the blue area: ['x_6970_5008', 'x_6600_5110', 'x_6601_5110', 'x_6602_5110', 'x_6610_5110', 'x_1604_5516', 'lag_x_6610_5110', 'lag_x_257_5910', 'lag_x_1601_5516', 'IncomeGroup.x_High income', 'Sub.Regions.x_Northern Europe']\n"
     ]
    }
   ],
   "source": [
    "###initialize Boruta\n",
    "forest = RandomForestRegressor(\n",
    "   n_jobs = -1, \n",
    "   max_depth = 5\n",
    ")\n",
    "boruta = BorutaPy(\n",
    "   estimator = forest, \n",
    "   n_estimators = 'auto',\n",
    "   max_iter = 100 # number of trials to perform\n",
    ")\n",
    "### fit Boruta (it accepts np.array, not pd.DataFrame)\n",
    "boruta.fit(np.array(X), np.array(y))\n",
    "### print results\n",
    "green_area = X.columns[boruta.support_].to_list()\n",
    "blue_area = X.columns[boruta.support_weak_].to_list()\n",
    "print('features in the green area:', green_area)\n",
    "print('features in the blue area:', blue_area)"
   ]
  },
  {
   "cell_type": "code",
   "execution_count": null,
   "metadata": {},
   "outputs": [],
   "source": [
    "# convert the test dataset in chunks to [chunk][variable][time] format\n",
    "def prepare_test_forecasts(test_chunks):\n",
    "    predictions = list()\n",
    "    # enumerate chunks to forecast\n",
    "    for rows in test_chunks:\n",
    "    # enumerate targets for chunk\n",
    "    chunk_predictions = list()\n",
    "    for j in range(3, rows.shape[1]):\n",
    "        yhat = rows[:, j]\n",
    "        chunk_predictions.append(yhat)\n",
    "        chunk_predictions = array(chunk_predictions)\n",
    "        predictions.append(chunk_predictions)\n",
    "    return np.array(predictions)\n",
    "\n",
    "# calculate the error between an actual and predicted value\n",
    "def calculate_error(actual, predicted):\n",
    "    # give the full actual value if predicted is nan\n",
    "    if isnan(predicted):\n",
    "        return abs(actual)\n",
    "    # calculate abs difference\n",
    "    return abs(actual - predicted)"
   ]
  }
 ],
 "metadata": {
  "kernelspec": {
   "display_name": "Python 3",
   "language": "python",
   "name": "python3"
  },
  "language_info": {
   "codemirror_mode": {
    "name": "ipython",
    "version": 3
   },
   "file_extension": ".py",
   "mimetype": "text/x-python",
   "name": "python",
   "nbconvert_exporter": "python",
   "pygments_lexer": "ipython3",
   "version": "3.7.4"
  }
 },
 "nbformat": 4,
 "nbformat_minor": 2
}
